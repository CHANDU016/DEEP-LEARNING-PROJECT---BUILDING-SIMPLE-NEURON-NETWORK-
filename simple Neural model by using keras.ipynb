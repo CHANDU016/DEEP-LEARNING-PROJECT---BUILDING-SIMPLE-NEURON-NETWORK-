{
 "cells": [
  {
   "cell_type": "code",
   "execution_count": 1,
   "id": "dde5b744",
   "metadata": {},
   "outputs": [],
   "source": [
    "import tensorflow \n",
    "from tensorflow import keras\n",
    "import matplotlib.pyplot as plt\n",
    "import numpy"
   ]
  },
  {
   "cell_type": "code",
   "execution_count": 3,
   "id": "648ded7c",
   "metadata": {},
   "outputs": [
    {
     "data": {
      "text/plain": [
       "[PhysicalDevice(name='/physical_device:CPU:0', device_type='CPU')]"
      ]
     },
     "execution_count": 3,
     "metadata": {},
     "output_type": "execute_result"
    }
   ],
   "source": [
    "tensorflow.config.experimental.list_physical_devices()"
   ]
  },
  {
   "cell_type": "code",
   "execution_count": null,
   "id": "7169c3e1",
   "metadata": {},
   "outputs": [],
   "source": []
  },
  {
   "cell_type": "code",
   "execution_count": 5,
   "id": "06d234e5",
   "metadata": {},
   "outputs": [
    {
     "data": {
      "text/plain": [
       "False"
      ]
     },
     "execution_count": 5,
     "metadata": {},
     "output_type": "execute_result"
    }
   ],
   "source": [
    "tensorflow.test.is_built_with_cuda()"
   ]
  },
  {
   "cell_type": "code",
   "execution_count": 7,
   "id": "06b847ef",
   "metadata": {},
   "outputs": [],
   "source": [
    "(x_train,y_train),(x_test,y_test) =tensorflow.keras.datasets.cifar10.load_data()"
   ]
  },
  {
   "cell_type": "code",
   "execution_count": 8,
   "id": "b2023db3",
   "metadata": {},
   "outputs": [
    {
     "name": "stdout",
     "output_type": "stream",
     "text": [
      "(50000, 32, 32, 3) (10000, 32, 32, 3) (50000, 1) (10000, 1)\n"
     ]
    }
   ],
   "source": [
    "print(x_train.shape,x_test.shape,y_train.shape,y_test.shape)"
   ]
  },
  {
   "cell_type": "code",
   "execution_count": 10,
   "id": "7e0cbb81",
   "metadata": {},
   "outputs": [
    {
     "data": {
      "text/plain": [
       "array([[ 16,  20,  20],\n",
       "       [  0,   0,   0],\n",
       "       [ 18,   8,   0],\n",
       "       [ 51,  27,   8],\n",
       "       [ 88,  51,  21],\n",
       "       [120,  82,  43],\n",
       "       [128,  89,  45],\n",
       "       [127,  86,  44],\n",
       "       [126,  87,  50],\n",
       "       [116,  79,  44],\n",
       "       [106,  70,  37],\n",
       "       [101,  67,  35],\n",
       "       [105,  70,  36],\n",
       "       [113,  74,  35],\n",
       "       [109,  70,  33],\n",
       "       [112,  72,  37],\n",
       "       [119,  79,  44],\n",
       "       [109,  71,  33],\n",
       "       [105,  69,  27],\n",
       "       [125,  89,  46],\n",
       "       [127,  92,  46],\n",
       "       [122,  85,  39],\n",
       "       [131,  89,  47],\n",
       "       [124,  82,  41],\n",
       "       [121,  79,  37],\n",
       "       [131,  89,  48],\n",
       "       [132,  91,  53],\n",
       "       [133,  94,  58],\n",
       "       [133,  96,  60],\n",
       "       [123,  88,  55],\n",
       "       [119,  83,  50],\n",
       "       [122,  87,  57]], dtype=uint8)"
      ]
     },
     "execution_count": 10,
     "metadata": {},
     "output_type": "execute_result"
    }
   ],
   "source": [
    "## data shape \n",
    "\n",
    "x_train[0][1]"
   ]
  },
  {
   "cell_type": "code",
   "execution_count": 18,
   "id": "c4995a1d",
   "metadata": {},
   "outputs": [],
   "source": [
    "# plot images in the data\n",
    "\n",
    "def plot_sample(index):\n",
    "    plt.figure(figsize=(10,1))\n",
    "    plt.imshow(x_train[index])"
   ]
  },
  {
   "cell_type": "code",
   "execution_count": 20,
   "id": "278dc65e",
   "metadata": {},
   "outputs": [
    {
     "data": {
      "image/png": "[encoded data removed]",
      "text/plain": [
       "<Figure size 1000x100 with 1 Axes>"
      ]
     },
     "metadata": {},
     "output_type": "display_data"
    }
   ],
   "source": [
    "plot_sample(1)"
   ]
  },
  {
   "cell_type": "code",
   "execution_count": 22,
   "id": "f9849ef4",
   "metadata": {},
   "outputs": [],
   "source": [
    "### image name\n",
    "classes = ['airplane',\"automobile\",\"bird\",\"cat\",\"deer\",\"dog\",\"forg\",\"horse\",\"ship\",\"truck\"]"
   ]
  },
  {
   "cell_type": "code",
   "execution_count": 23,
   "id": "59b1bebd",
   "metadata": {},
   "outputs": [
    {
     "data": {
      "text/plain": [
       "(50000, 1)"
      ]
     },
     "execution_count": 23,
     "metadata": {},
     "output_type": "execute_result"
    }
   ],
   "source": [
    "y_train.shape"
   ]
  },
  {
   "cell_type": "code",
   "execution_count": 24,
   "id": "58a99314",
   "metadata": {},
   "outputs": [
    {
     "data": {
      "text/plain": [
       "'deer'"
      ]
     },
     "execution_count": 24,
     "metadata": {},
     "output_type": "execute_result"
    }
   ],
   "source": [
    "# here y train and y test is not in image form, its in the name form so we have to create the image classification list\n",
    "\n",
    "classes[y_train[3][0]]"
   ]
  },
  {
   "cell_type": "code",
   "execution_count": 41,
   "id": "033d3576",
   "metadata": {},
   "outputs": [
    {
     "name": "stdout",
     "output_type": "stream",
     "text": [
      "[[[ 59  62  63]\n",
      "  [ 43  46  45]\n",
      "  [ 50  48  43]\n",
      "  ...\n",
      "  [158 132 108]\n",
      "  [152 125 102]\n",
      "  [148 124 103]]\n",
      "\n",
      " [[ 16  20  20]\n",
      "  [  0   0   0]\n",
      "  [ 18   8   0]\n",
      "  ...\n",
      "  [123  88  55]\n",
      "  [119  83  50]\n",
      "  [122  87  57]]\n",
      "\n",
      " [[ 25  24  21]\n",
      "  [ 16   7   0]\n",
      "  [ 49  27   8]\n",
      "  ...\n",
      "  [118  84  50]\n",
      "  [120  84  50]\n",
      "  [109  73  42]]\n",
      "\n",
      " ...\n",
      "\n",
      " [[208 170  96]\n",
      "  [201 153  34]\n",
      "  [198 161  26]\n",
      "  ...\n",
      "  [160 133  70]\n",
      "  [ 56  31   7]\n",
      "  [ 53  34  20]]\n",
      "\n",
      " [[180 139  96]\n",
      "  [173 123  42]\n",
      "  [186 144  30]\n",
      "  ...\n",
      "  [184 148  94]\n",
      "  [ 97  62  34]\n",
      "  [ 83  53  34]]\n",
      "\n",
      " [[177 144 116]\n",
      "  [168 129  94]\n",
      "  [179 142  87]\n",
      "  ...\n",
      "  [216 184 140]\n",
      "  [151 118  84]\n",
      "  [123  92  72]]]\n",
      "---------------------\n",
      "[[[[0.23137255 0.24313725 0.24705882]\n",
      "   [0.16862745 0.18039216 0.17647059]\n",
      "   [0.19607843 0.18823529 0.16862745]\n",
      "   ...\n",
      "   [0.61960784 0.51764706 0.42352941]\n",
      "   [0.59607843 0.49019608 0.4       ]\n",
      "   [0.58039216 0.48627451 0.40392157]]\n",
      "\n",
      "  [[0.0627451  0.07843137 0.07843137]\n",
      "   [0.         0.         0.        ]\n",
      "   [0.07058824 0.03137255 0.        ]\n",
      "   ...\n",
      "   [0.48235294 0.34509804 0.21568627]\n",
      "   [0.46666667 0.3254902  0.19607843]\n",
      "   [0.47843137 0.34117647 0.22352941]]\n",
      "\n",
      "  [[0.09803922 0.09411765 0.08235294]\n",
      "   [0.0627451  0.02745098 0.        ]\n",
      "   [0.19215686 0.10588235 0.03137255]\n",
      "   ...\n",
      "   [0.4627451  0.32941176 0.19607843]\n",
      "   [0.47058824 0.32941176 0.19607843]\n",
      "   [0.42745098 0.28627451 0.16470588]]\n",
      "\n",
      "  ...\n",
      "\n",
      "  [[0.81568627 0.66666667 0.37647059]\n",
      "   [0.78823529 0.6        0.13333333]\n",
      "   [0.77647059 0.63137255 0.10196078]\n",
      "   ...\n",
      "   [0.62745098 0.52156863 0.2745098 ]\n",
      "   [0.21960784 0.12156863 0.02745098]\n",
      "   [0.20784314 0.13333333 0.07843137]]\n",
      "\n",
      "  [[0.70588235 0.54509804 0.37647059]\n",
      "   [0.67843137 0.48235294 0.16470588]\n",
      "   [0.72941176 0.56470588 0.11764706]\n",
      "   ...\n",
      "   [0.72156863 0.58039216 0.36862745]\n",
      "   [0.38039216 0.24313725 0.13333333]\n",
      "   [0.3254902  0.20784314 0.13333333]]\n",
      "\n",
      "  [[0.69411765 0.56470588 0.45490196]\n",
      "   [0.65882353 0.50588235 0.36862745]\n",
      "   [0.70196078 0.55686275 0.34117647]\n",
      "   ...\n",
      "   [0.84705882 0.72156863 0.54901961]\n",
      "   [0.59215686 0.4627451  0.32941176]\n",
      "   [0.48235294 0.36078431 0.28235294]]]\n",
      "\n",
      "\n",
      " [[[0.60392157 0.69411765 0.73333333]\n",
      "   [0.49411765 0.5372549  0.53333333]\n",
      "   [0.41176471 0.40784314 0.37254902]\n",
      "   ...\n",
      "   [0.35686275 0.37254902 0.27843137]\n",
      "   [0.34117647 0.35294118 0.27843137]\n",
      "   [0.30980392 0.31764706 0.2745098 ]]\n",
      "\n",
      "  [[0.54901961 0.62745098 0.6627451 ]\n",
      "   [0.56862745 0.6        0.60392157]\n",
      "   [0.49019608 0.49019608 0.4627451 ]\n",
      "   ...\n",
      "   [0.37647059 0.38823529 0.30588235]\n",
      "   [0.30196078 0.31372549 0.24313725]\n",
      "   [0.27843137 0.28627451 0.23921569]]\n",
      "\n",
      "  [[0.54901961 0.60784314 0.64313725]\n",
      "   [0.54509804 0.57254902 0.58431373]\n",
      "   [0.45098039 0.45098039 0.43921569]\n",
      "   ...\n",
      "   [0.30980392 0.32156863 0.25098039]\n",
      "   [0.26666667 0.2745098  0.21568627]\n",
      "   [0.2627451  0.27058824 0.21568627]]\n",
      "\n",
      "  ...\n",
      "\n",
      "  [[0.68627451 0.65490196 0.65098039]\n",
      "   [0.61176471 0.60392157 0.62745098]\n",
      "   [0.60392157 0.62745098 0.66666667]\n",
      "   ...\n",
      "   [0.16470588 0.13333333 0.14117647]\n",
      "   [0.23921569 0.20784314 0.22352941]\n",
      "   [0.36470588 0.3254902  0.35686275]]\n",
      "\n",
      "  [[0.64705882 0.60392157 0.50196078]\n",
      "   [0.61176471 0.59607843 0.50980392]\n",
      "   [0.62352941 0.63137255 0.55686275]\n",
      "   ...\n",
      "   [0.40392157 0.36470588 0.37647059]\n",
      "   [0.48235294 0.44705882 0.47058824]\n",
      "   [0.51372549 0.4745098  0.51372549]]\n",
      "\n",
      "  [[0.63921569 0.58039216 0.47058824]\n",
      "   [0.61960784 0.58039216 0.47843137]\n",
      "   [0.63921569 0.61176471 0.52156863]\n",
      "   ...\n",
      "   [0.56078431 0.52156863 0.54509804]\n",
      "   [0.56078431 0.5254902  0.55686275]\n",
      "   [0.56078431 0.52156863 0.56470588]]]\n",
      "\n",
      "\n",
      " [[[1.         1.         1.        ]\n",
      "   [0.99215686 0.99215686 0.99215686]\n",
      "   [0.99215686 0.99215686 0.99215686]\n",
      "   ...\n",
      "   [0.99215686 0.99215686 0.99215686]\n",
      "   [0.99215686 0.99215686 0.99215686]\n",
      "   [0.99215686 0.99215686 0.99215686]]\n",
      "\n",
      "  [[1.         1.         1.        ]\n",
      "   [1.         1.         1.        ]\n",
      "   [1.         1.         1.        ]\n",
      "   ...\n",
      "   [1.         1.         1.        ]\n",
      "   [1.         1.         1.        ]\n",
      "   [1.         1.         1.        ]]\n",
      "\n",
      "  [[1.         1.         1.        ]\n",
      "   [0.99607843 0.99607843 0.99607843]\n",
      "   [0.99607843 0.99607843 0.99607843]\n",
      "   ...\n",
      "   [0.99607843 0.99607843 0.99607843]\n",
      "   [0.99607843 0.99607843 0.99607843]\n",
      "   [0.99607843 0.99607843 0.99607843]]\n",
      "\n",
      "  ...\n",
      "\n",
      "  [[0.44313725 0.47058824 0.43921569]\n",
      "   [0.43529412 0.4627451  0.43529412]\n",
      "   [0.41176471 0.43921569 0.41568627]\n",
      "   ...\n",
      "   [0.28235294 0.31764706 0.31372549]\n",
      "   [0.28235294 0.31372549 0.30980392]\n",
      "   [0.28235294 0.31372549 0.30980392]]\n",
      "\n",
      "  [[0.43529412 0.4627451  0.43137255]\n",
      "   [0.40784314 0.43529412 0.40784314]\n",
      "   [0.38823529 0.41568627 0.38431373]\n",
      "   ...\n",
      "   [0.26666667 0.29411765 0.28627451]\n",
      "   [0.2745098  0.29803922 0.29411765]\n",
      "   [0.30588235 0.32941176 0.32156863]]\n",
      "\n",
      "  [[0.41568627 0.44313725 0.41176471]\n",
      "   [0.38823529 0.41568627 0.38431373]\n",
      "   [0.37254902 0.4        0.36862745]\n",
      "   ...\n",
      "   [0.30588235 0.33333333 0.3254902 ]\n",
      "   [0.30980392 0.33333333 0.3254902 ]\n",
      "   [0.31372549 0.3372549  0.32941176]]]\n",
      "\n",
      "\n",
      " ...\n",
      "\n",
      "\n",
      " [[[0.1372549  0.69803922 0.92156863]\n",
      "   [0.15686275 0.69019608 0.9372549 ]\n",
      "   [0.16470588 0.69019608 0.94509804]\n",
      "   ...\n",
      "   [0.38823529 0.69411765 0.85882353]\n",
      "   [0.30980392 0.57647059 0.77254902]\n",
      "   [0.34901961 0.58039216 0.74117647]]\n",
      "\n",
      "  [[0.22352941 0.71372549 0.91764706]\n",
      "   [0.17254902 0.72156863 0.98039216]\n",
      "   [0.19607843 0.71764706 0.94117647]\n",
      "   ...\n",
      "   [0.61176471 0.71372549 0.78431373]\n",
      "   [0.55294118 0.69411765 0.80784314]\n",
      "   [0.45490196 0.58431373 0.68627451]]\n",
      "\n",
      "  [[0.38431373 0.77254902 0.92941176]\n",
      "   [0.25098039 0.74117647 0.98823529]\n",
      "   [0.27058824 0.75294118 0.96078431]\n",
      "   ...\n",
      "   [0.7372549  0.76470588 0.80784314]\n",
      "   [0.46666667 0.52941176 0.57647059]\n",
      "   [0.23921569 0.30980392 0.35294118]]\n",
      "\n",
      "  ...\n",
      "\n",
      "  [[0.28627451 0.30980392 0.30196078]\n",
      "   [0.20784314 0.24705882 0.26666667]\n",
      "   [0.21176471 0.26666667 0.31372549]\n",
      "   ...\n",
      "   [0.06666667 0.15686275 0.25098039]\n",
      "   [0.08235294 0.14117647 0.2       ]\n",
      "   [0.12941176 0.18823529 0.19215686]]\n",
      "\n",
      "  [[0.23921569 0.26666667 0.29411765]\n",
      "   [0.21568627 0.2745098  0.3372549 ]\n",
      "   [0.22352941 0.30980392 0.40392157]\n",
      "   ...\n",
      "   [0.09411765 0.18823529 0.28235294]\n",
      "   [0.06666667 0.1372549  0.20784314]\n",
      "   [0.02745098 0.09019608 0.1254902 ]]\n",
      "\n",
      "  [[0.17254902 0.21960784 0.28627451]\n",
      "   [0.18039216 0.25882353 0.34509804]\n",
      "   [0.19215686 0.30196078 0.41176471]\n",
      "   ...\n",
      "   [0.10588235 0.20392157 0.30196078]\n",
      "   [0.08235294 0.16862745 0.25882353]\n",
      "   [0.04705882 0.12156863 0.19607843]]]\n",
      "\n",
      "\n",
      " [[[0.74117647 0.82745098 0.94117647]\n",
      "   [0.72941176 0.81568627 0.9254902 ]\n",
      "   [0.7254902  0.81176471 0.92156863]\n",
      "   ...\n",
      "   [0.68627451 0.76470588 0.87843137]\n",
      "   [0.6745098  0.76078431 0.87058824]\n",
      "   [0.6627451  0.76078431 0.8627451 ]]\n",
      "\n",
      "  [[0.76078431 0.82352941 0.9372549 ]\n",
      "   [0.74901961 0.81176471 0.9254902 ]\n",
      "   [0.74509804 0.80784314 0.92156863]\n",
      "   ...\n",
      "   [0.67843137 0.75294118 0.8627451 ]\n",
      "   [0.67058824 0.74901961 0.85490196]\n",
      "   [0.65490196 0.74509804 0.84705882]]\n",
      "\n",
      "  [[0.81568627 0.85882353 0.95686275]\n",
      "   [0.80392157 0.84705882 0.94117647]\n",
      "   [0.8        0.84313725 0.9372549 ]\n",
      "   ...\n",
      "   [0.68627451 0.74901961 0.85098039]\n",
      "   [0.6745098  0.74509804 0.84705882]\n",
      "   [0.6627451  0.74901961 0.84313725]]\n",
      "\n",
      "  ...\n",
      "\n",
      "  [[0.81176471 0.78039216 0.70980392]\n",
      "   [0.79607843 0.76470588 0.68627451]\n",
      "   [0.79607843 0.76862745 0.67843137]\n",
      "   ...\n",
      "   [0.52941176 0.51764706 0.49803922]\n",
      "   [0.63529412 0.61960784 0.58823529]\n",
      "   [0.65882353 0.63921569 0.59215686]]\n",
      "\n",
      "  [[0.77647059 0.74509804 0.66666667]\n",
      "   [0.74117647 0.70980392 0.62352941]\n",
      "   [0.70588235 0.6745098  0.57647059]\n",
      "   ...\n",
      "   [0.69803922 0.67058824 0.62745098]\n",
      "   [0.68627451 0.6627451  0.61176471]\n",
      "   [0.68627451 0.6627451  0.60392157]]\n",
      "\n",
      "  [[0.77647059 0.74117647 0.67843137]\n",
      "   [0.74117647 0.70980392 0.63529412]\n",
      "   [0.69803922 0.66666667 0.58431373]\n",
      "   ...\n",
      "   [0.76470588 0.72156863 0.6627451 ]\n",
      "   [0.76862745 0.74117647 0.67058824]\n",
      "   [0.76470588 0.74509804 0.67058824]]]\n",
      "\n",
      "\n",
      " [[[0.89803922 0.89803922 0.9372549 ]\n",
      "   [0.9254902  0.92941176 0.96862745]\n",
      "   [0.91764706 0.9254902  0.96862745]\n",
      "   ...\n",
      "   [0.85098039 0.85882353 0.91372549]\n",
      "   [0.86666667 0.8745098  0.91764706]\n",
      "   [0.87058824 0.8745098  0.91372549]]\n",
      "\n",
      "  [[0.87058824 0.86666667 0.89803922]\n",
      "   [0.9372549  0.9372549  0.97647059]\n",
      "   [0.91372549 0.91764706 0.96470588]\n",
      "   ...\n",
      "   [0.8745098  0.8745098  0.9254902 ]\n",
      "   [0.89019608 0.89411765 0.93333333]\n",
      "   [0.82352941 0.82745098 0.8627451 ]]\n",
      "\n",
      "  [[0.83529412 0.80784314 0.82745098]\n",
      "   [0.91764706 0.90980392 0.9372549 ]\n",
      "   [0.90588235 0.91372549 0.95686275]\n",
      "   ...\n",
      "   [0.8627451  0.8627451  0.90980392]\n",
      "   [0.8627451  0.85882353 0.90980392]\n",
      "   [0.79215686 0.79607843 0.84313725]]\n",
      "\n",
      "  ...\n",
      "\n",
      "  [[0.58823529 0.56078431 0.52941176]\n",
      "   [0.54901961 0.52941176 0.49803922]\n",
      "   [0.51764706 0.49803922 0.47058824]\n",
      "   ...\n",
      "   [0.87843137 0.87058824 0.85490196]\n",
      "   [0.90196078 0.89411765 0.88235294]\n",
      "   [0.94509804 0.94509804 0.93333333]]\n",
      "\n",
      "  [[0.5372549  0.51764706 0.49411765]\n",
      "   [0.50980392 0.49803922 0.47058824]\n",
      "   [0.49019608 0.4745098  0.45098039]\n",
      "   ...\n",
      "   [0.70980392 0.70588235 0.69803922]\n",
      "   [0.79215686 0.78823529 0.77647059]\n",
      "   [0.83137255 0.82745098 0.81176471]]\n",
      "\n",
      "  [[0.47843137 0.46666667 0.44705882]\n",
      "   [0.4627451  0.45490196 0.43137255]\n",
      "   [0.47058824 0.45490196 0.43529412]\n",
      "   ...\n",
      "   [0.70196078 0.69411765 0.67843137]\n",
      "   [0.64313725 0.64313725 0.63529412]\n",
      "   [0.63921569 0.63921569 0.63137255]]]]\n"
     ]
    }
   ],
   "source": [
    "## difference\n",
    "\n",
    "print(x_train[0])\n",
    "\n",
    "print(\"---------------------\")\n",
    "\n",
    "print(x_train_scaled)"
   ]
  },
  {
   "cell_type": "code",
   "execution_count": 54,
   "id": "52d32ba6",
   "metadata": {},
   "outputs": [],
   "source": [
    "## for train write the code to call keras\n",
    "##This package provides utilities for Keras, such as modified callbacks, genereators, etc.\n",
    "\n",
    "import pandas as pd\n",
    "y_train_categorical = keras.utils.to_categorical(\n",
    "y_train, num_classes =10)  ### num classes =10 because we have 10 classified images"
   ]
  },
  {
   "cell_type": "code",
   "execution_count": 56,
   "id": "f85b23cb",
   "metadata": {},
   "outputs": [
    {
     "data": {
      "text/plain": [
       "array([[6],\n",
       "       [9],\n",
       "       [9],\n",
       "       ...,\n",
       "       [9],\n",
       "       [1],\n",
       "       [1]], dtype=uint8)"
      ]
     },
     "execution_count": 56,
     "metadata": {},
     "output_type": "execute_result"
    }
   ],
   "source": [
    "##actual\n",
    "y_train\n"
   ]
  },
  {
   "cell_type": "code",
   "execution_count": 57,
   "id": "a9947686",
   "metadata": {
    "scrolled": true
   },
   "outputs": [
    {
     "data": {
      "text/plain": [
       "array([[0., 0., 0., ..., 0., 0., 0.],\n",
       "       [0., 0., 0., ..., 0., 0., 1.],\n",
       "       [0., 0., 0., ..., 0., 0., 1.],\n",
       "       ...,\n",
       "       [0., 0., 0., ..., 0., 0., 1.],\n",
       "       [0., 1., 0., ..., 0., 0., 0.],\n",
       "       [0., 1., 0., ..., 0., 0., 0.]])"
      ]
     },
     "execution_count": 57,
     "metadata": {},
     "output_type": "execute_result"
    }
   ],
   "source": [
    "## its just like one hot code\n",
    "##after converting to categorical\n",
    "y_train_categorical"
   ]
  },
  {
   "cell_type": "code",
   "execution_count": 58,
   "id": "9790af7a",
   "metadata": {},
   "outputs": [],
   "source": [
    "## now again we apply code to convert categaorical for y_test\n",
    "\n",
    "y_test_categorical= keras.utils.to_categorical(y_test,num_classes=10)"
   ]
  },
  {
   "cell_type": "code",
   "execution_count": 63,
   "id": "be9b195d",
   "metadata": {},
   "outputs": [
    {
     "name": "stderr",
     "output_type": "stream",
     "text": [
      "C:\\Users\\chand\\anaconda3\\Lib\\site-packages\\keras\\src\\layers\\reshaping\\flatten.py:37: UserWarning: Do not pass an `input_shape`/`input_dim` argument to a layer. When using Sequential models, prefer using an `Input(shape)` object as the first layer in the model instead.\n",
      "  super().__init__(**kwargs)\n"
     ]
    }
   ],
   "source": [
    "## details for creating the neural layers for model\n",
    "\n",
    "model = keras.Sequential([\n",
    "    keras.layers.Flatten(input_shape=(32,32,3)),\n",
    "    keras.layers.Dense(1000,activation='relu'),\n",
    "    keras.layers.Dense(10,activation= \"sigmoid\")\n",
    "])"
   ]
  },
  {
   "cell_type": "code",
   "execution_count": 64,
   "id": "6199d3bf",
   "metadata": {},
   "outputs": [],
   "source": [
    "## here type of mathematical model, type of loss, type of accuracy test should be given\n",
    "model.compile(optimizer = 'SGD',\n",
    "             loss =\"categorical_crossentropy\",\n",
    "             metrics=['accuracy'])"
   ]
  },
  {
   "cell_type": "code",
   "execution_count": 66,
   "id": "41f2c5e9",
   "metadata": {},
   "outputs": [
    {
     "name": "stdout",
     "output_type": "stream",
     "text": [
      "Epoch 1/5\n",
      "\u001b[1m1563/1563\u001b[0m \u001b[32m━━━━━━━━━━━━━━━━━━━━\u001b[0m\u001b[37m\u001b[0m \u001b[1m28s\u001b[0m 14ms/step - accuracy: 0.2965 - loss: 1.9628\n",
      "Epoch 2/5\n",
      "\u001b[1m1563/1563\u001b[0m \u001b[32m━━━━━━━━━━━━━━━━━━━━\u001b[0m\u001b[37m\u001b[0m \u001b[1m21s\u001b[0m 13ms/step - accuracy: 0.4059 - loss: 1.6906\n",
      "Epoch 3/5\n",
      "\u001b[1m1563/1563\u001b[0m \u001b[32m━━━━━━━━━━━━━━━━━━━━\u001b[0m\u001b[37m\u001b[0m \u001b[1m22s\u001b[0m 14ms/step - accuracy: 0.4388 - loss: 1.6043\n",
      "Epoch 4/5\n",
      "\u001b[1m1563/1563\u001b[0m \u001b[32m━━━━━━━━━━━━━━━━━━━━\u001b[0m\u001b[37m\u001b[0m \u001b[1m22s\u001b[0m 14ms/step - accuracy: 0.4573 - loss: 1.5527\n",
      "Epoch 5/5\n",
      "\u001b[1m1563/1563\u001b[0m \u001b[32m━━━━━━━━━━━━━━━━━━━━\u001b[0m\u001b[37m\u001b[0m \u001b[1m21s\u001b[0m 14ms/step - accuracy: 0.4705 - loss: 1.5062\n"
     ]
    },
    {
     "data": {
      "text/plain": [
       "<keras.src.callbacks.history.History at 0x268df235350>"
      ]
     },
     "execution_count": 66,
     "metadata": {},
     "output_type": "execute_result"
    }
   ],
   "source": [
    "model.fit(x_train_scaled,y_train_categorical,epochs=5)"
   ]
  },
  {
   "cell_type": "code",
   "execution_count": 70,
   "id": "dc9d623a",
   "metadata": {},
   "outputs": [],
   "source": [
    "x_test_scaled= x_test/255"
   ]
  },
  {
   "cell_type": "code",
   "execution_count": 71,
   "id": "97b0d8ae",
   "metadata": {},
   "outputs": [
    {
     "name": "stdout",
     "output_type": "stream",
     "text": [
      "\u001b[1m313/313\u001b[0m \u001b[32m━━━━━━━━━━━━━━━━━━━━\u001b[0m\u001b[37m\u001b[0m \u001b[1m2s\u001b[0m 5ms/step\n"
     ]
    },
    {
     "data": {
      "text/plain": [
       "array([[0.28514627, 0.5770063 , 0.7405616 , ..., 0.07660767, 0.5902957 ,\n",
       "        0.06366557],\n",
       "       [0.7062469 , 0.96700966, 0.28544375, ..., 0.08002418, 0.9632009 ,\n",
       "        0.9763346 ],\n",
       "       [0.90980905, 0.9436955 , 0.4518427 , ..., 0.13621533, 0.97168857,\n",
       "        0.9018737 ],\n",
       "       ...,\n",
       "       [0.06287418, 0.05019955, 0.7962993 , ..., 0.55091786, 0.32766435,\n",
       "        0.11701901],\n",
       "       [0.22879761, 0.2925784 , 0.7852238 , ..., 0.41520384, 0.10837861,\n",
       "        0.16861144],\n",
       "       [0.47660434, 0.18772714, 0.777451  , ..., 0.817351  , 0.26877567,\n",
       "        0.23347282]], dtype=float32)"
      ]
     },
     "execution_count": 71,
     "metadata": {},
     "output_type": "execute_result"
    }
   ],
   "source": [
    "## now predict the x_test\n",
    "\n",
    "model.predict(x_test_scaled)"
   ]
  },
  {
   "cell_type": "code",
   "execution_count": 72,
   "id": "8f727645",
   "metadata": {},
   "outputs": [
    {
     "name": "stdout",
     "output_type": "stream",
     "text": [
      "\u001b[1m313/313\u001b[0m \u001b[32m━━━━━━━━━━━━━━━━━━━━\u001b[0m\u001b[37m\u001b[0m \u001b[1m1s\u001b[0m 5ms/step\n"
     ]
    },
    {
     "data": {
      "text/plain": [
       "array([0.28514627, 0.5770063 , 0.7405616 , 0.89227015, 0.39120877,\n",
       "       0.7790254 , 0.89022267, 0.07660767, 0.5902957 , 0.06366557],\n",
       "      dtype=float32)"
      ]
     },
     "execution_count": 72,
     "metadata": {},
     "output_type": "execute_result"
    }
   ],
   "source": [
    "## predict one image from x_test\n",
    "model.predict(x_test_scaled)[0]"
   ]
  },
  {
   "cell_type": "code",
   "execution_count": 74,
   "id": "23345b78",
   "metadata": {},
   "outputs": [
    {
     "name": "stdout",
     "output_type": "stream",
     "text": [
      "\u001b[1m313/313\u001b[0m \u001b[32m━━━━━━━━━━━━━━━━━━━━\u001b[0m\u001b[37m\u001b[0m \u001b[1m2s\u001b[0m 5ms/step\n"
     ]
    },
    {
     "data": {
      "text/plain": [
       "3"
      ]
     },
     "execution_count": 74,
     "metadata": {},
     "output_type": "execute_result"
    }
   ],
   "source": [
    "## for knowing the image classsification from scaled to normal image classification with number we apply the below code\n",
    "\n",
    "numpy.argmax(model.predict(x_test_scaled)[0])"
   ]
  },
  {
   "cell_type": "code",
   "execution_count": 75,
   "id": "a626b923",
   "metadata": {},
   "outputs": [
    {
     "name": "stdout",
     "output_type": "stream",
     "text": [
      "\u001b[1m313/313\u001b[0m \u001b[32m━━━━━━━━━━━━━━━━━━━━\u001b[0m\u001b[37m\u001b[0m \u001b[1m2s\u001b[0m 5ms/step\n"
     ]
    },
    {
     "data": {
      "text/plain": [
       "'cat'"
      ]
     },
     "execution_count": 75,
     "metadata": {},
     "output_type": "execute_result"
    }
   ],
   "source": [
    "## again we want the image name use below code\n",
    "\n",
    "classes[numpy.argmax(model.predict(x_test_scaled)[0])]"
   ]
  }
 ],
 "metadata": {
  "kernelspec": {
   "display_name": "Python 3 (ipykernel)",
   "language": "python",
   "name": "python3"
  },
  "language_info": {
   "codemirror_mode": {
    "name": "ipython",
    "version": 3
   },
   "file_extension": ".py",
   "mimetype": "text/x-python",
   "name": "python",
   "nbconvert_exporter": "python",
   "pygments_lexer": "ipython3",
   "version": "3.11.5"
  }
 },
 "nbformat": 4,
 "nbformat_minor": 5
}
